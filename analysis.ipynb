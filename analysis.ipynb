{
 "cells": [
  {
   "attachments": {},
   "cell_type": "markdown",
   "metadata": {},
   "source": [
    "## Introduction and background\n",
    "  \n",
    "  BellaBeat is a successful small company in the global smart device market.The Chief Creative Officer of Bellabeat want to analyze smart device fitness data in order to unlock new growth opportunities for the company.This analysis will focus on one of Bellabeat’s products and analyze smart device data to gain insight into how consumers are using their smart devices. The insights  will then help guide marketing strategy for the company.\n",
    "  "
   ]
  },
  {
   "attachments": {},
   "cell_type": "markdown",
   "metadata": {},
   "source": [
    " ## Installing and loading common packages"
   ]
  },
  {
   "cell_type": "code",
   "execution_count": 94,
   "metadata": {},
   "outputs": [],
   "source": [
    "import pandas as pd \n",
    "import seaborn as sns\n",
    "import matplotlib as plt"
   ]
  },
  {
   "attachments": {},
   "cell_type": "markdown",
   "metadata": {},
   "source": [
    "## Upload CSV files and creating Dataframe"
   ]
  },
  {
   "cell_type": "code",
   "execution_count": 95,
   "metadata": {},
   "outputs": [
    {
     "name": "stdout",
     "output_type": "stream",
     "text": [
      "<class 'pandas.core.frame.DataFrame'>\n",
      "RangeIndex: 940 entries, 0 to 939\n",
      "Data columns (total 15 columns):\n",
      " #   Column                    Non-Null Count  Dtype  \n",
      "---  ------                    --------------  -----  \n",
      " 0   Id                        940 non-null    int64  \n",
      " 1   ActivityDate              940 non-null    object \n",
      " 2   TotalSteps                940 non-null    int64  \n",
      " 3   TotalDistance             940 non-null    float64\n",
      " 4   TrackerDistance           940 non-null    float64\n",
      " 5   LoggedActivitiesDistance  940 non-null    float64\n",
      " 6   VeryActiveDistance        940 non-null    float64\n",
      " 7   ModeratelyActiveDistance  940 non-null    float64\n",
      " 8   LightActiveDistance       940 non-null    float64\n",
      " 9   SedentaryActiveDistance   940 non-null    float64\n",
      " 10  VeryActiveMinutes         940 non-null    int64  \n",
      " 11  FairlyActiveMinutes       940 non-null    int64  \n",
      " 12  LightlyActiveMinutes      940 non-null    int64  \n",
      " 13  SedentaryMinutes          940 non-null    int64  \n",
      " 14  Calories                  940 non-null    int64  \n",
      "dtypes: float64(7), int64(7), object(1)\n",
      "memory usage: 110.3+ KB\n"
     ]
    },
    {
     "data": {
      "text/plain": [
       "33"
      ]
     },
     "execution_count": 95,
     "metadata": {},
     "output_type": "execute_result"
    }
   ],
   "source": [
    "dailyActivity_df = pd.read_csv('BellaBeat_Data/dailyActivity_merged.csv')\n",
    "dailyActivity_df.info()\n",
    "dailyActivity_df.head()\n",
    "total_unique = dailyActivity_df['Id'].unique()\n",
    "len(total_unique)\n",
    "\n"
   ]
  },
  {
   "cell_type": "code",
   "execution_count": 96,
   "metadata": {},
   "outputs": [
    {
     "name": "stdout",
     "output_type": "stream",
     "text": [
      "<class 'pandas.core.frame.DataFrame'>\n",
      "RangeIndex: 940 entries, 0 to 939\n",
      "Data columns (total 3 columns):\n",
      " #   Column       Non-Null Count  Dtype \n",
      "---  ------       --------------  ----- \n",
      " 0   Id           940 non-null    int64 \n",
      " 1   ActivityDay  940 non-null    object\n",
      " 2   Calories     940 non-null    int64 \n",
      "dtypes: int64(2), object(1)\n",
      "memory usage: 22.2+ KB\n"
     ]
    },
    {
     "data": {
      "text/plain": [
       "33"
      ]
     },
     "execution_count": 96,
     "metadata": {},
     "output_type": "execute_result"
    }
   ],
   "source": [
    "dailyCalories_df = pd.read_csv('BellaBeat_Data/dailyCalories_merged.csv')\n",
    "dailyCalories_df.info()\n",
    "dailyCalories_df.head()\n",
    "total_unique = dailyCalories_df['Id'].unique()\n",
    "len(total_unique)"
   ]
  },
  {
   "cell_type": "code",
   "execution_count": 97,
   "metadata": {},
   "outputs": [
    {
     "name": "stdout",
     "output_type": "stream",
     "text": [
      "<class 'pandas.core.frame.DataFrame'>\n",
      "RangeIndex: 940 entries, 0 to 939\n",
      "Data columns (total 10 columns):\n",
      " #   Column                    Non-Null Count  Dtype  \n",
      "---  ------                    --------------  -----  \n",
      " 0   Id                        940 non-null    int64  \n",
      " 1   ActivityDay               940 non-null    object \n",
      " 2   SedentaryMinutes          940 non-null    int64  \n",
      " 3   LightlyActiveMinutes      940 non-null    int64  \n",
      " 4   FairlyActiveMinutes       940 non-null    int64  \n",
      " 5   VeryActiveMinutes         940 non-null    int64  \n",
      " 6   SedentaryActiveDistance   940 non-null    float64\n",
      " 7   LightActiveDistance       940 non-null    float64\n",
      " 8   ModeratelyActiveDistance  940 non-null    float64\n",
      " 9   VeryActiveDistance        940 non-null    float64\n",
      "dtypes: float64(4), int64(5), object(1)\n",
      "memory usage: 73.6+ KB\n"
     ]
    },
    {
     "data": {
      "text/plain": [
       "33"
      ]
     },
     "execution_count": 97,
     "metadata": {},
     "output_type": "execute_result"
    }
   ],
   "source": [
    "dailyIntensities_df = pd.read_csv('BellaBeat_Data/dailyIntensities_merged.csv')\n",
    "dailyIntensities_df.info()\n",
    "dailyIntensities_df.head()\n",
    "total_unique = dailyIntensities_df['Id'].unique()\n",
    "len(total_unique)\n"
   ]
  },
  {
   "cell_type": "code",
   "execution_count": 98,
   "metadata": {},
   "outputs": [
    {
     "name": "stdout",
     "output_type": "stream",
     "text": [
      "<class 'pandas.core.frame.DataFrame'>\n",
      "RangeIndex: 940 entries, 0 to 939\n",
      "Data columns (total 3 columns):\n",
      " #   Column       Non-Null Count  Dtype \n",
      "---  ------       --------------  ----- \n",
      " 0   Id           940 non-null    int64 \n",
      " 1   ActivityDay  940 non-null    object\n",
      " 2   StepTotal    940 non-null    int64 \n",
      "dtypes: int64(2), object(1)\n",
      "memory usage: 22.2+ KB\n"
     ]
    },
    {
     "data": {
      "text/plain": [
       "33"
      ]
     },
     "execution_count": 98,
     "metadata": {},
     "output_type": "execute_result"
    }
   ],
   "source": [
    "dailySteps_df = pd.read_csv('BellaBeat_Data/dailySteps_merged.csv')\n",
    "dailySteps_df.info()\n",
    "dailySteps_df.head()\n",
    "total_unique = dailySteps_df['Id'].unique()\n",
    "len(total_unique)"
   ]
  },
  {
   "cell_type": "code",
   "execution_count": 99,
   "metadata": {},
   "outputs": [
    {
     "name": "stdout",
     "output_type": "stream",
     "text": [
      "<class 'pandas.core.frame.DataFrame'>\n",
      "RangeIndex: 413 entries, 0 to 412\n",
      "Data columns (total 5 columns):\n",
      " #   Column              Non-Null Count  Dtype \n",
      "---  ------              --------------  ----- \n",
      " 0   Id                  413 non-null    int64 \n",
      " 1   SleepDay            413 non-null    object\n",
      " 2   TotalSleepRecords   413 non-null    int64 \n",
      " 3   TotalMinutesAsleep  413 non-null    int64 \n",
      " 4   TotalTimeInBed      413 non-null    int64 \n",
      "dtypes: int64(4), object(1)\n",
      "memory usage: 16.3+ KB\n"
     ]
    },
    {
     "data": {
      "text/plain": [
       "24"
      ]
     },
     "execution_count": 99,
     "metadata": {},
     "output_type": "execute_result"
    }
   ],
   "source": [
    "sleepDay_df = pd.read_csv('BellaBeat_Data/SleepDay_merged.csv')\n",
    "sleepDay_df.info()\n",
    "sleepDay_df.head()\n",
    "total_unique = sleepDay_df['Id'].unique()\n",
    "len(total_unique)"
   ]
  },
  {
   "cell_type": "code",
   "execution_count": 100,
   "metadata": {},
   "outputs": [
    {
     "name": "stdout",
     "output_type": "stream",
     "text": [
      "<class 'pandas.core.frame.DataFrame'>\n",
      "RangeIndex: 67 entries, 0 to 66\n",
      "Data columns (total 8 columns):\n",
      " #   Column          Non-Null Count  Dtype  \n",
      "---  ------          --------------  -----  \n",
      " 0   Id              67 non-null     int64  \n",
      " 1   Date            67 non-null     object \n",
      " 2   WeightKg        67 non-null     float64\n",
      " 3   WeightPounds    67 non-null     float64\n",
      " 4   Fat             2 non-null      float64\n",
      " 5   BMI             67 non-null     float64\n",
      " 6   IsManualReport  67 non-null     bool   \n",
      " 7   LogId           67 non-null     int64  \n",
      "dtypes: bool(1), float64(4), int64(2), object(1)\n",
      "memory usage: 3.9+ KB\n"
     ]
    },
    {
     "data": {
      "text/plain": [
       "8"
      ]
     },
     "execution_count": 100,
     "metadata": {},
     "output_type": "execute_result"
    }
   ],
   "source": [
    "weightLogInfo_df = pd.read_csv('BellaBeat_Data/weightLogInfo_merged.csv')\n",
    "weightLogInfo_df.info()\n",
    "weightLogInfo_df.head()\n",
    "total_unique = weightLogInfo_df['Id'].unique()\n",
    "len(total_unique)"
   ]
  },
  {
   "attachments": {},
   "cell_type": "markdown",
   "metadata": {},
   "source": [
    "## Overview of our Data\n",
    "overall all our data are organised in columns and rows and all have as common column the Id column. The number of participants for each data set used are 33 except for the sleep_Day and WeightLogInfo. the sleep_day has 24 participants which the results can still be relevant to our analysis but for the weightLogInfo with only 8 participants, the information collected will not be enough to make useful analysis."
   ]
  },
  {
   "attachments": {},
   "cell_type": "markdown",
   "metadata": {},
   "source": [
    "## Exploring some Statistics"
   ]
  },
  {
   "cell_type": "code",
   "execution_count": 111,
   "metadata": {},
   "outputs": [
    {
     "data": {
      "text/plain": [
       "count     940.00\n",
       "mean     7637.91\n",
       "std      5087.15\n",
       "min         0.00\n",
       "25%      3789.75\n",
       "50%      7405.50\n",
       "75%     10727.00\n",
       "max     36019.00\n",
       "Name: TotalSteps, dtype: float64"
      ]
     },
     "execution_count": 111,
     "metadata": {},
     "output_type": "execute_result"
    }
   ],
   "source": [
    "pd.set_option('display.float_format', lambda x:'%.2f'% x)\n",
    "dailyActivity_df['TotalSteps'].describe()\n"
   ]
  },
  {
   "cell_type": "code",
   "execution_count": 114,
   "metadata": {},
   "outputs": [
    {
     "data": {
      "text/plain": [
       "count    940.00\n",
       "mean    2303.61\n",
       "std      718.17\n",
       "min        0.00\n",
       "25%     1828.50\n",
       "50%     2134.00\n",
       "75%     2793.25\n",
       "max     4900.00\n",
       "Name: Calories, dtype: float64"
      ]
     },
     "execution_count": 114,
     "metadata": {},
     "output_type": "execute_result"
    }
   ],
   "source": [
    "pd.set_option('display.float_format', lambda x:'%.2f'% x)\n",
    "dailyCalories_df['Calories'].describe()\n"
   ]
  },
  {
   "cell_type": "code",
   "execution_count": 118,
   "metadata": {},
   "outputs": [
    {
     "data": {
      "text/plain": [
       "count    940.00\n",
       "mean     991.21\n",
       "std      301.27\n",
       "min        0.00\n",
       "25%      729.75\n",
       "50%     1057.50\n",
       "75%     1229.50\n",
       "max     1440.00\n",
       "Name: SedentaryMinutes, dtype: float64"
      ]
     },
     "execution_count": 118,
     "metadata": {},
     "output_type": "execute_result"
    }
   ],
   "source": [
    "pd.set_option('display.float_format', lambda x:'%.2f'% x)\n",
    "dailyIntensities_df['SedentaryMinutes'].describe()\n"
   ]
  },
  {
   "cell_type": "code",
   "execution_count": 120,
   "metadata": {},
   "outputs": [
    {
     "data": {
      "text/plain": [
       "count     940.00\n",
       "mean     7637.91\n",
       "std      5087.15\n",
       "min         0.00\n",
       "25%      3789.75\n",
       "50%      7405.50\n",
       "75%     10727.00\n",
       "max     36019.00\n",
       "Name: StepTotal, dtype: float64"
      ]
     },
     "execution_count": 120,
     "metadata": {},
     "output_type": "execute_result"
    }
   ],
   "source": [
    "pd.set_option('display.float_format', lambda x:'%.2f'% x)\n",
    "dailySteps_df['StepTotal'].describe()\n"
   ]
  },
  {
   "cell_type": "code",
   "execution_count": 122,
   "metadata": {},
   "outputs": [
    {
     "data": {
      "text/plain": [
       "count   413.00\n",
       "mean      1.12\n",
       "std       0.35\n",
       "min       1.00\n",
       "25%       1.00\n",
       "50%       1.00\n",
       "75%       1.00\n",
       "max       3.00\n",
       "Name: TotalSleepRecords, dtype: float64"
      ]
     },
     "execution_count": 122,
     "metadata": {},
     "output_type": "execute_result"
    }
   ],
   "source": [
    "pd.set_option('display.float_format', lambda x:'%.2f'% x)\n",
    "sleepDay_df['TotalSleepRecords'].describe()\n"
   ]
  }
 ],
 "metadata": {
  "kernelspec": {
   "display_name": "venv",
   "language": "python",
   "name": "python3"
  },
  "language_info": {
   "codemirror_mode": {
    "name": "ipython",
    "version": 3
   },
   "file_extension": ".py",
   "mimetype": "text/x-python",
   "name": "python",
   "nbconvert_exporter": "python",
   "pygments_lexer": "ipython3",
   "version": "3.11.1"
  },
  "orig_nbformat": 4
 },
 "nbformat": 4,
 "nbformat_minor": 2
}
