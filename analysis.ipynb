{
 "cells": [
  {
   "attachments": {},
   "cell_type": "markdown",
   "metadata": {},
   "source": [
    "## Introduction and background\n",
    "  \n",
    "  BellaBeat is a successful small company in the global smart device market.The Chief Creative Officer of Bellabeat want to analyze smart device fitness data in order to unlock new growth opportunities for the company.This analysis will focus on one of Bellabeat’s products and analyze smart device data to gain insight into how consumers are using their smart devices. The insights  will then help guide marketing strategy for the company.\n",
    "  "
   ]
  },
  {
   "attachments": {},
   "cell_type": "markdown",
   "metadata": {},
   "source": [
    " ## Installing and loading common packages"
   ]
  },
  {
   "cell_type": "code",
   "execution_count": 82,
   "metadata": {},
   "outputs": [],
   "source": [
    "import pandas as pd \n",
    "import seaborn as sns\n",
    "import matplotlib.pyplot as plt"
   ]
  },
  {
   "attachments": {},
   "cell_type": "markdown",
   "metadata": {},
   "source": [
    "## Upload CSV files and creating Dataframe"
   ]
  },
  {
   "cell_type": "code",
   "execution_count": 83,
   "metadata": {},
   "outputs": [
    {
     "name": "stdout",
     "output_type": "stream",
     "text": [
      "<class 'pandas.core.frame.DataFrame'>\n",
      "RangeIndex: 940 entries, 0 to 939\n",
      "Data columns (total 15 columns):\n",
      " #   Column                    Non-Null Count  Dtype  \n",
      "---  ------                    --------------  -----  \n",
      " 0   Id                        940 non-null    int64  \n",
      " 1   ActivityDate              940 non-null    object \n",
      " 2   TotalSteps                940 non-null    int64  \n",
      " 3   TotalDistance             940 non-null    float64\n",
      " 4   TrackerDistance           940 non-null    float64\n",
      " 5   LoggedActivitiesDistance  940 non-null    float64\n",
      " 6   VeryActiveDistance        940 non-null    float64\n",
      " 7   ModeratelyActiveDistance  940 non-null    float64\n",
      " 8   LightActiveDistance       940 non-null    float64\n",
      " 9   SedentaryActiveDistance   940 non-null    float64\n",
      " 10  VeryActiveMinutes         940 non-null    int64  \n",
      " 11  FairlyActiveMinutes       940 non-null    int64  \n",
      " 12  LightlyActiveMinutes      940 non-null    int64  \n",
      " 13  SedentaryMinutes          940 non-null    int64  \n",
      " 14  Calories                  940 non-null    int64  \n",
      "dtypes: float64(7), int64(7), object(1)\n",
      "memory usage: 110.3+ KB\n"
     ]
    },
    {
     "data": {
      "text/plain": [
       "33"
      ]
     },
     "execution_count": 83,
     "metadata": {},
     "output_type": "execute_result"
    }
   ],
   "source": [
    "dailyActivity_df = pd.read_csv('BellaBeat_Data/dailyActivity_merged.csv')\n",
    "dailyActivity_df.info()\n",
    "dailyActivity_df.head()\n",
    "total_unique = dailyActivity_df['Id'].unique()\n",
    "len(total_unique)\n",
    "\n"
   ]
  },
  {
   "cell_type": "code",
   "execution_count": 84,
   "metadata": {},
   "outputs": [
    {
     "name": "stdout",
     "output_type": "stream",
     "text": [
      "<class 'pandas.core.frame.DataFrame'>\n",
      "RangeIndex: 940 entries, 0 to 939\n",
      "Data columns (total 3 columns):\n",
      " #   Column       Non-Null Count  Dtype \n",
      "---  ------       --------------  ----- \n",
      " 0   Id           940 non-null    int64 \n",
      " 1   ActivityDay  940 non-null    object\n",
      " 2   Calories     940 non-null    int64 \n",
      "dtypes: int64(2), object(1)\n",
      "memory usage: 22.2+ KB\n"
     ]
    },
    {
     "data": {
      "text/plain": [
       "33"
      ]
     },
     "execution_count": 84,
     "metadata": {},
     "output_type": "execute_result"
    }
   ],
   "source": [
    "dailyCalories_df = pd.read_csv('BellaBeat_Data/dailyCalories_merged.csv')\n",
    "dailyCalories_df.info()\n",
    "dailyCalories_df.head()\n",
    "total_unique = dailyCalories_df['Id'].unique()\n",
    "len(total_unique)"
   ]
  },
  {
   "cell_type": "code",
   "execution_count": 85,
   "metadata": {},
   "outputs": [
    {
     "name": "stdout",
     "output_type": "stream",
     "text": [
      "<class 'pandas.core.frame.DataFrame'>\n",
      "RangeIndex: 940 entries, 0 to 939\n",
      "Data columns (total 10 columns):\n",
      " #   Column                    Non-Null Count  Dtype  \n",
      "---  ------                    --------------  -----  \n",
      " 0   Id                        940 non-null    int64  \n",
      " 1   ActivityDay               940 non-null    object \n",
      " 2   SedentaryMinutes          940 non-null    int64  \n",
      " 3   LightlyActiveMinutes      940 non-null    int64  \n",
      " 4   FairlyActiveMinutes       940 non-null    int64  \n",
      " 5   VeryActiveMinutes         940 non-null    int64  \n",
      " 6   SedentaryActiveDistance   940 non-null    float64\n",
      " 7   LightActiveDistance       940 non-null    float64\n",
      " 8   ModeratelyActiveDistance  940 non-null    float64\n",
      " 9   VeryActiveDistance        940 non-null    float64\n",
      "dtypes: float64(4), int64(5), object(1)\n",
      "memory usage: 73.6+ KB\n"
     ]
    },
    {
     "data": {
      "text/plain": [
       "33"
      ]
     },
     "execution_count": 85,
     "metadata": {},
     "output_type": "execute_result"
    }
   ],
   "source": [
    "dailyIntensities_df = pd.read_csv('BellaBeat_Data/dailyIntensities_merged.csv')\n",
    "dailyIntensities_df.info()\n",
    "dailyIntensities_df.head()\n",
    "total_unique = dailyIntensities_df['Id'].unique()\n",
    "len(total_unique)\n"
   ]
  },
  {
   "cell_type": "code",
   "execution_count": 86,
   "metadata": {},
   "outputs": [
    {
     "name": "stdout",
     "output_type": "stream",
     "text": [
      "<class 'pandas.core.frame.DataFrame'>\n",
      "RangeIndex: 940 entries, 0 to 939\n",
      "Data columns (total 3 columns):\n",
      " #   Column       Non-Null Count  Dtype \n",
      "---  ------       --------------  ----- \n",
      " 0   Id           940 non-null    int64 \n",
      " 1   ActivityDay  940 non-null    object\n",
      " 2   StepTotal    940 non-null    int64 \n",
      "dtypes: int64(2), object(1)\n",
      "memory usage: 22.2+ KB\n"
     ]
    },
    {
     "data": {
      "text/plain": [
       "33"
      ]
     },
     "execution_count": 86,
     "metadata": {},
     "output_type": "execute_result"
    }
   ],
   "source": [
    "dailySteps_df = pd.read_csv('BellaBeat_Data/dailySteps_merged.csv')\n",
    "dailySteps_df.info()\n",
    "dailySteps_df.head()\n",
    "total_unique = dailySteps_df['Id'].unique()\n",
    "len(total_unique)"
   ]
  },
  {
   "cell_type": "code",
   "execution_count": 87,
   "metadata": {},
   "outputs": [
    {
     "name": "stdout",
     "output_type": "stream",
     "text": [
      "<class 'pandas.core.frame.DataFrame'>\n",
      "RangeIndex: 413 entries, 0 to 412\n",
      "Data columns (total 5 columns):\n",
      " #   Column              Non-Null Count  Dtype \n",
      "---  ------              --------------  ----- \n",
      " 0   Id                  413 non-null    int64 \n",
      " 1   SleepDay            413 non-null    object\n",
      " 2   TotalSleepRecords   413 non-null    int64 \n",
      " 3   TotalMinutesAsleep  413 non-null    int64 \n",
      " 4   TotalTimeInBed      413 non-null    int64 \n",
      "dtypes: int64(4), object(1)\n",
      "memory usage: 16.3+ KB\n"
     ]
    },
    {
     "data": {
      "text/plain": [
       "24"
      ]
     },
     "execution_count": 87,
     "metadata": {},
     "output_type": "execute_result"
    }
   ],
   "source": [
    "sleepDay_df = pd.read_csv('BellaBeat_Data/SleepDay_merged.csv')\n",
    "sleepDay_df.info()\n",
    "sleepDay_df.head()\n",
    "total_unique = sleepDay_df['Id'].unique()\n",
    "len(total_unique)"
   ]
  },
  {
   "cell_type": "code",
   "execution_count": 88,
   "metadata": {},
   "outputs": [
    {
     "name": "stdout",
     "output_type": "stream",
     "text": [
      "<class 'pandas.core.frame.DataFrame'>\n",
      "RangeIndex: 67 entries, 0 to 66\n",
      "Data columns (total 8 columns):\n",
      " #   Column          Non-Null Count  Dtype  \n",
      "---  ------          --------------  -----  \n",
      " 0   Id              67 non-null     int64  \n",
      " 1   Date            67 non-null     object \n",
      " 2   WeightKg        67 non-null     float64\n",
      " 3   WeightPounds    67 non-null     float64\n",
      " 4   Fat             2 non-null      float64\n",
      " 5   BMI             67 non-null     float64\n",
      " 6   IsManualReport  67 non-null     bool   \n",
      " 7   LogId           67 non-null     int64  \n",
      "dtypes: bool(1), float64(4), int64(2), object(1)\n",
      "memory usage: 3.9+ KB\n"
     ]
    },
    {
     "data": {
      "text/plain": [
       "8"
      ]
     },
     "execution_count": 88,
     "metadata": {},
     "output_type": "execute_result"
    }
   ],
   "source": [
    "weightLogInfo_df = pd.read_csv('BellaBeat_Data/weightLogInfo_merged.csv')\n",
    "weightLogInfo_df.info()\n",
    "weightLogInfo_df.head()\n",
    "total_unique = weightLogInfo_df['Id'].unique()\n",
    "len(total_unique)"
   ]
  },
  {
   "cell_type": "code",
   "execution_count": 100,
   "metadata": {},
   "outputs": [
    {
     "name": "stdout",
     "output_type": "stream",
     "text": [
      "<class 'pandas.core.frame.DataFrame'>\n",
      "RangeIndex: 21645 entries, 0 to 21644\n",
      "Data columns (total 62 columns):\n",
      " #   Column        Non-Null Count  Dtype \n",
      "---  ------        --------------  ----- \n",
      " 0   Id            21645 non-null  int64 \n",
      " 1   ActivityHour  21645 non-null  object\n",
      " 2   Steps00       21645 non-null  int64 \n",
      " 3   Steps01       21645 non-null  int64 \n",
      " 4   Steps02       21645 non-null  int64 \n",
      " 5   Steps03       21645 non-null  int64 \n",
      " 6   Steps04       21645 non-null  int64 \n",
      " 7   Steps05       21645 non-null  int64 \n",
      " 8   Steps06       21645 non-null  int64 \n",
      " 9   Steps07       21645 non-null  int64 \n",
      " 10  Steps08       21645 non-null  int64 \n",
      " 11  Steps09       21645 non-null  int64 \n",
      " 12  Steps10       21645 non-null  int64 \n",
      " 13  Steps11       21645 non-null  int64 \n",
      " 14  Steps12       21645 non-null  int64 \n",
      " 15  Steps13       21645 non-null  int64 \n",
      " 16  Steps14       21645 non-null  int64 \n",
      " 17  Steps15       21645 non-null  int64 \n",
      " 18  Steps16       21645 non-null  int64 \n",
      " 19  Steps17       21645 non-null  int64 \n",
      " 20  Steps18       21645 non-null  int64 \n",
      " 21  Steps19       21645 non-null  int64 \n",
      " 22  Steps20       21645 non-null  int64 \n",
      " 23  Steps21       21645 non-null  int64 \n",
      " 24  Steps22       21645 non-null  int64 \n",
      " 25  Steps23       21645 non-null  int64 \n",
      " 26  Steps24       21645 non-null  int64 \n",
      " 27  Steps25       21645 non-null  int64 \n",
      " 28  Steps26       21645 non-null  int64 \n",
      " 29  Steps27       21645 non-null  int64 \n",
      " 30  Steps28       21645 non-null  int64 \n",
      " 31  Steps29       21645 non-null  int64 \n",
      " 32  Steps30       21645 non-null  int64 \n",
      " 33  Steps31       21645 non-null  int64 \n",
      " 34  Steps32       21645 non-null  int64 \n",
      " 35  Steps33       21645 non-null  int64 \n",
      " 36  Steps34       21645 non-null  int64 \n",
      " 37  Steps35       21645 non-null  int64 \n",
      " 38  Steps36       21645 non-null  int64 \n",
      " 39  Steps37       21645 non-null  int64 \n",
      " 40  Steps38       21645 non-null  int64 \n",
      " 41  Steps39       21645 non-null  int64 \n",
      " 42  Steps40       21645 non-null  int64 \n",
      " 43  Steps41       21645 non-null  int64 \n",
      " 44  Steps42       21645 non-null  int64 \n",
      " 45  Steps43       21645 non-null  int64 \n",
      " 46  Steps44       21645 non-null  int64 \n",
      " 47  Steps45       21645 non-null  int64 \n",
      " 48  Steps46       21645 non-null  int64 \n",
      " 49  Steps47       21645 non-null  int64 \n",
      " 50  Steps48       21645 non-null  int64 \n",
      " 51  Steps49       21645 non-null  int64 \n",
      " 52  Steps50       21645 non-null  int64 \n",
      " 53  Steps51       21645 non-null  int64 \n",
      " 54  Steps52       21645 non-null  int64 \n",
      " 55  Steps53       21645 non-null  int64 \n",
      " 56  Steps54       21645 non-null  int64 \n",
      " 57  Steps55       21645 non-null  int64 \n",
      " 58  Steps56       21645 non-null  int64 \n",
      " 59  Steps57       21645 non-null  int64 \n",
      " 60  Steps58       21645 non-null  int64 \n",
      " 61  Steps59       21645 non-null  int64 \n",
      "dtypes: int64(61), object(1)\n",
      "memory usage: 10.2+ MB\n"
     ]
    },
    {
     "data": {
      "text/plain": [
       "33"
      ]
     },
     "execution_count": 100,
     "metadata": {},
     "output_type": "execute_result"
    }
   ],
   "source": [
    "minuteStepsWide_df = pd.read_csv('BellaBeat_Data/minuteStepsWide_merged.csv')\n",
    "minuteStepsWide_df.info()\n",
    "minuteStepsWide_df.head()\n",
    "total_unique = minuteStepsWide_df['Id'].unique()\n",
    "len(total_unique)"
   ]
  },
  {
   "attachments": {},
   "cell_type": "markdown",
   "metadata": {},
   "source": [
    "### Some findings\n",
    "overall all our data are organised in columns and rows and all have as common column the Id column. The number of participants for each data set used are 33 except for the sleep_Day and WeightLogInfo. the sleep_day has 24 participants which the results can still be relevant to our analysis but for the weightLogInfo with only 8 participants, the information collected will not be enough to make useful analysis."
   ]
  },
  {
   "attachments": {},
   "cell_type": "markdown",
   "metadata": {},
   "source": [
    "### Cleaning Our Data\n",
    " \n",
    "We are going to drop some cells that have null value and will not be use in our analysis"
   ]
  },
  {
   "cell_type": "code",
   "execution_count": null,
   "metadata": {},
   "outputs": [],
   "source": [
    "minuteStepsWide_df = minuteStepsWide_df.dropna(how='any',axis=0, inplace= True) \n",
    "print(minuteStepsWide_df)\n"
   ]
  },
  {
   "attachments": {},
   "cell_type": "markdown",
   "metadata": {},
   "source": [
    "## Exploring some Statistics"
   ]
  },
  {
   "cell_type": "code",
   "execution_count": 89,
   "metadata": {},
   "outputs": [
    {
     "data": {
      "text/plain": [
       "count     940.00\n",
       "mean     7637.91\n",
       "std      5087.15\n",
       "min         0.00\n",
       "25%      3789.75\n",
       "50%      7405.50\n",
       "75%     10727.00\n",
       "max     36019.00\n",
       "Name: TotalSteps, dtype: float64"
      ]
     },
     "execution_count": 89,
     "metadata": {},
     "output_type": "execute_result"
    }
   ],
   "source": [
    "pd.set_option('display.float_format', lambda x:'%.2f'% x)\n",
    "dailyActivity_df['TotalSteps'].describe()\n"
   ]
  },
  {
   "attachments": {},
   "cell_type": "markdown",
   "metadata": {},
   "source": [
    "As per CDC recommendation taking 8,000 steps per day was associated with a 51% lower risk for all-cause mortality. The participant in this study are a little bit under this threshold with 7637 steps a day"
   ]
  },
  {
   "cell_type": "code",
   "execution_count": 90,
   "metadata": {},
   "outputs": [
    {
     "data": {
      "text/plain": [
       "count    940.00\n",
       "mean    2303.61\n",
       "std      718.17\n",
       "min        0.00\n",
       "25%     1828.50\n",
       "50%     2134.00\n",
       "75%     2793.25\n",
       "max     4900.00\n",
       "Name: Calories, dtype: float64"
      ]
     },
     "execution_count": 90,
     "metadata": {},
     "output_type": "execute_result"
    }
   ],
   "source": [
    "pd.set_option('display.float_format', lambda x:'%.2f'% x)\n",
    "dailyCalories_df['Calories'].describe()\n"
   ]
  },
  {
   "attachments": {},
   "cell_type": "markdown",
   "metadata": {},
   "source": [
    "FDA recommendation for calorie intake for adult is usually 2000 calories, however this number can be higher or lower depending on several factors such as age, sex, weight, height... so with 2303 calories on average we can say the participants are fairly within the norm"
   ]
  },
  {
   "cell_type": "code",
   "execution_count": 91,
   "metadata": {},
   "outputs": [
    {
     "data": {
      "text/plain": [
       "count    940.00\n",
       "mean     991.21\n",
       "std      301.27\n",
       "min        0.00\n",
       "25%      729.75\n",
       "50%     1057.50\n",
       "75%     1229.50\n",
       "max     1440.00\n",
       "Name: SedentaryMinutes, dtype: float64"
      ]
     },
     "execution_count": 91,
     "metadata": {},
     "output_type": "execute_result"
    }
   ],
   "source": [
    "pd.set_option('display.float_format', lambda x:'%.2f'% x)\n",
    "dailyIntensities_df['SedentaryMinutes'].describe()\n"
   ]
  },
  {
   "attachments": {},
   "cell_type": "markdown",
   "metadata": {},
   "source": [
    "With 991 minutes or roughly 16.5 hours of sedentary activity we can conclude the participants in this study are not very active"
   ]
  },
  {
   "cell_type": "code",
   "execution_count": 92,
   "metadata": {},
   "outputs": [
    {
     "data": {
      "text/plain": [
       "count     940.00\n",
       "mean     7637.91\n",
       "std      5087.15\n",
       "min         0.00\n",
       "25%      3789.75\n",
       "50%      7405.50\n",
       "75%     10727.00\n",
       "max     36019.00\n",
       "Name: StepTotal, dtype: float64"
      ]
     },
     "execution_count": 92,
     "metadata": {},
     "output_type": "execute_result"
    }
   ],
   "source": [
    "pd.set_option('display.float_format', lambda x:'%.2f'% x)\n",
    "dailySteps_df['StepTotal'].describe()\n"
   ]
  },
  {
   "cell_type": "code",
   "execution_count": 93,
   "metadata": {},
   "outputs": [
    {
     "data": {
      "text/plain": [
       "count   413.00\n",
       "mean    419.47\n",
       "std     118.34\n",
       "min      58.00\n",
       "25%     361.00\n",
       "50%     433.00\n",
       "75%     490.00\n",
       "max     796.00\n",
       "Name: TotalMinutesAsleep, dtype: float64"
      ]
     },
     "execution_count": 93,
     "metadata": {},
     "output_type": "execute_result"
    }
   ],
   "source": [
    "pd.set_option('display.float_format', lambda x:'%.2f'% x)\n",
    "sleepDay_df['TotalMinutesAsleep'].describe()\n"
   ]
  },
  {
   "attachments": {},
   "cell_type": "markdown",
   "metadata": {},
   "source": [
    "The participants seems to be getting just enough sleep to meet CDC recommendation of 7 hours sleep a day"
   ]
  },
  {
   "attachments": {},
   "cell_type": "markdown",
   "metadata": {},
   "source": [
    "## Visualisation"
   ]
  },
  {
   "cell_type": "code",
   "execution_count": 94,
   "metadata": {},
   "outputs": [
    {
     "data": {
      "text/plain": [
       "<Axes: xlabel='TotalSteps', ylabel='TotalDistance'>"
      ]
     },
     "execution_count": 94,
     "metadata": {},
     "output_type": "execute_result"
    },
    {
     "data": {
      "image/png": "[encoded data removed]",
      "text/plain": [
       "<Figure size 640x480 with 1 Axes>"
      ]
     },
     "metadata": {},
     "output_type": "display_data"
    }
   ],
   "source": [
    "sns.scatterplot(x=dailyActivity_df['TotalSteps'],\n",
    "                y=dailyActivity_df['TotalDistance'])"
   ]
  },
  {
   "attachments": {},
   "cell_type": "markdown",
   "metadata": {},
   "source": [
    " The distance is related to the Steps taken. the more steps you take the greater the distance."
   ]
  },
  {
   "cell_type": "code",
   "execution_count": 95,
   "metadata": {},
   "outputs": [],
   "source": [
    "df_Melted = dailyIntensities_df.melt(id_vars=['Id'], value_vars=['SedentaryMinutes', 'LightlyActiveMinutes', 'FairlyActiveMinutes', 'VeryActiveMinutes'])\n",
    "df_subtotal = df_Melted.groupby('Id', as_index=False)[['value']].agg('sum')\n",
    "##df_subtotal['value'] = df_subtotal['value'] + 'subtotal'\n",
    "df_new = pd.concat([df_Melted, df_subtotal], axis=0, ignore_index=True)"
   ]
  },
  {
   "cell_type": "code",
   "execution_count": 96,
   "metadata": {},
   "outputs": [
    {
     "data": {
      "text/plain": [
       "<seaborn.axisgrid.FacetGrid at 0x23085dfb6d0>"
      ]
     },
     "execution_count": 96,
     "metadata": {},
     "output_type": "execute_result"
    },
    {
     "data": {
      "image/png": "[encoded data removed]",
      "text/plain": [
       "<Figure size 694.375x500 with 1 Axes>"
      ]
     },
     "metadata": {},
     "output_type": "display_data"
    }
   ],
   "source": [
    "sns.catplot(df_new, x='Id', y='value',hue='variable', kind='bar')"
   ]
  },
  {
   "attachments": {},
   "cell_type": "markdown",
   "metadata": {},
   "source": [
    "Sedentary activity outweight by far out  other activities which is expected if we take into account sleeping  time as well as the fact that a lot of people work in and office and spend a lot of time sitting down."
   ]
  },
  {
   "cell_type": "code",
   "execution_count": 97,
   "metadata": {},
   "outputs": [],
   "source": [
    " df_Melt = sleepDay_df.melt(id_vars=['Id'], value_vars=['TotalMinutesAsleep', 'TotalTimeInBed'])\n",
    "\n",
    " df_subtotal = df_Melt.groupby('Id', as_index=False)[['value']].agg('sum')\n",
    "##df_subtotal['value'] = df_subtotal['value'] + 'subtotal'\n",
    "df_new = pd.concat([df_Melt, df_subtotal], axis=0, ignore_index=True)"
   ]
  },
  {
   "cell_type": "code",
   "execution_count": 98,
   "metadata": {},
   "outputs": [
    {
     "data": {
      "text/plain": [
       "<seaborn.axisgrid.FacetGrid at 0x2308618d690>"
      ]
     },
     "execution_count": 98,
     "metadata": {},
     "output_type": "execute_result"
    },
    {
     "data": {
      "image/png": "[encoded data removed]",
      "text/plain": [
       "<Figure size 683.5x500 with 1 Axes>"
      ]
     },
     "metadata": {},
     "output_type": "display_data"
    }
   ],
   "source": [
    "sns.catplot(df_new, x='Id', y='value',hue='variable', kind='bar')"
   ]
  },
  {
   "attachments": {},
   "cell_type": "markdown",
   "metadata": {},
   "source": [
    "The time spend in bed is almost the same as the time asleep. so maybe the device already have some applications that help the users fall asleep quickly "
   ]
  },
  {
   "attachments": {},
   "cell_type": "markdown",
   "metadata": {},
   "source": [
    "## Conclusion\n",
    "\n",
    "we realise that most participants do not like to record their weight so maybe they are too conscious of their body image specially with the media promoting the perfect type of body. however we can also appreciate that the manufacturer of Bellebeat is aware that wellness is not only about the weight that is why the product also focus on monitoring other area such as the sleep partern\n",
    "most participant live a sedentary lifestyle so adding a few reminder to help participants taking short break throughout the day to stretch or do even a 5 min activity can improve somewhat the lifestyle"
   ]
  }
 ],
 "metadata": {
  "kernelspec": {
   "display_name": "venv",
   "language": "python",
   "name": "python3"
  },
  "language_info": {
   "codemirror_mode": {
    "name": "ipython",
    "version": 3
   },
   "file_extension": ".py",
   "mimetype": "text/x-python",
   "name": "python",
   "nbconvert_exporter": "python",
   "pygments_lexer": "ipython3",
   "version": "3.11.1"
  },
  "orig_nbformat": 4
 },
 "nbformat": 4,
 "nbformat_minor": 2
}
